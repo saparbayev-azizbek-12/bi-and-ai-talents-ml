{
 "cells": [
  {
   "cell_type": "markdown",
   "id": "82b36eee",
   "metadata": {},
   "source": [
    "## Import packages"
   ]
  },
  {
   "cell_type": "markdown",
   "id": "b0ca3068",
   "metadata": {},
   "source": [
    "**🧩 1. Load and prepare date**"
   ]
  },
  {
   "cell_type": "code",
   "execution_count": 6,
   "id": "3497755f",
   "metadata": {},
   "outputs": [],
   "source": [
    "import pandas as pd\n",
    "import numpy as np\n",
    "import matplotlib.pyplot as plt\n",
    "from sklearn.preprocessing import StandardScaler\n",
    "from sklearn.model_selection import train_test_split\n",
    "from sklearn.metrics import mean_squared_error, r2_score"
   ]
  },
  {
   "cell_type": "markdown",
   "id": "fd2e2249",
   "metadata": {},
   "source": [
    "$$\n",
    "X_{scaled} = \\frac{X - \\bar{X}}{\\sigma}\n",
    "$$"
   ]
  },
  {
   "cell_type": "markdown",
   "id": "6eeac3e5",
   "metadata": {},
   "source": [
    "$$\n",
    "\\sigma = \\sqrt{X - \\bar{X}}\n",
    "$$"
   ]
  },
  {
   "cell_type": "code",
   "execution_count": 9,
   "id": "7f0908a1",
   "metadata": {},
   "outputs": [],
   "source": [
    "df = pd.read_csv(\"../data/car_price.csv\")\n",
    "\n",
    "features = ['horsepower', 'enginesize', 'curbweight', 'carwidth']\n",
    "target = 'price'\n",
    "\n",
    "df = df[features + [target]].dropna()\n",
    "\n",
    "X = df[features].values\n",
    "y = df[target].values\n",
    "\n",
    "scaler = StandardScaler()\n",
    "X_scaled = scaler.fit_transform(X)"
   ]
  },
  {
   "cell_type": "code",
   "execution_count": 10,
   "id": "640f753a",
   "metadata": {},
   "outputs": [
    {
     "data": {
      "text/plain": [
       "array([[ 0.17448278,  0.07444893, -0.01456628, -0.84478235],\n",
       "       [ 0.17448278,  0.07444893, -0.01456628, -0.84478235],\n",
       "       [ 1.26453643,  0.60404617,  0.51488192, -0.19056612],\n",
       "       [-0.05366798, -0.43107572, -0.42079745,  0.13654199],\n",
       "       [ 0.27588312,  0.21888454,  0.51680718,  0.23000146]])"
      ]
     },
     "execution_count": 10,
     "metadata": {},
     "output_type": "execute_result"
    }
   ],
   "source": [
    "X_scaled[:5]"
   ]
  },
  {
   "cell_type": "code",
   "execution_count": 12,
   "id": "846e72a5",
   "metadata": {},
   "outputs": [
    {
     "data": {
      "text/plain": [
       "array([[ 0.17405669,  0.07426712, -0.01453071, -0.84271939],\n",
       "       [ 0.17405669,  0.07426712, -0.01453071, -0.84271939],\n",
       "       [ 1.26144842,  0.60257108,  0.51362457, -0.19010076],\n",
       "       [-0.05353693, -0.43002303, -0.41976986,  0.13620856],\n",
       "       [ 0.27520941,  0.21835002,  0.51554514,  0.22943979]])"
      ]
     },
     "execution_count": 12,
     "metadata": {},
     "output_type": "execute_result"
    }
   ],
   "source": [
    "X_mean = np.mean(X, axis=0)\n",
    "X_std = np.std(X, axis=0, ddof=1)\n",
    "X2 = (X - X_mean) / X_std\n",
    "X2[:5]"
   ]
  },
  {
   "cell_type": "markdown",
   "id": "ef9fc76f",
   "metadata": {},
   "source": [
    "**🧮 2. Cost and gradient functions**"
   ]
  },
  {
   "cell_type": "code",
   "execution_count": 11,
   "id": "1dae01e3",
   "metadata": {},
   "outputs": [],
   "source": [
    "def compute_cost(X, y, w, b):\n",
    "    n = len(y)\n",
    "    preds = X.dot(w) + b\n",
    "    error = y - preds\n",
    "    return (1/n) * np.sum(error ** 2)\n",
    "\n",
    "def compute_gradients(X, y, w, b):\n",
    "    n = len(y)\n",
    "    preds = X.dot(w) + b\n",
    "    error = y - preds\n",
    "    dw = (-2/n) * X.T.dot(error)\n",
    "    db = (-2/n) * np.sum(error)\n",
    "    return dw, db\n"
   ]
  },
  {
   "cell_type": "markdown",
   "id": "f0cb843a",
   "metadata": {},
   "source": [
    "**🔁 3. Gradient Descent function**"
   ]
  },
  {
   "cell_type": "code",
   "execution_count": 12,
   "id": "77d53387",
   "metadata": {},
   "outputs": [],
   "source": [
    "def gradient_descent(X, y, lr=0.01, epochs=1000):\n",
    "    n_samples, n_features = X.shape\n",
    "    w = np.zeros(n_features)\n",
    "    b = 0\n",
    "    cost_history = []\n",
    "\n",
    "    for i in range(epochs):\n",
    "        dw, db = compute_gradients(X, y, w, b)\n",
    "        w -= lr * dw\n",
    "        b -= lr * db\n",
    "        cost = compute_cost(X, y, w, b)\n",
    "        cost_history.append(cost)\n",
    "        if i % 100 == 0:\n",
    "            print(f\"Epoch {i}: Cost = {cost:.2f}\")\n",
    "    return w, b, cost_history\n"
   ]
  },
  {
   "cell_type": "markdown",
   "id": "6fc25d50",
   "metadata": {},
   "source": [
    "**📊 4. Train and test model**"
   ]
  },
  {
   "cell_type": "code",
   "execution_count": 13,
   "id": "ac34b59b",
   "metadata": {},
   "outputs": [
    {
     "name": "stdout",
     "output_type": "stream",
     "text": [
      "Epoch 0: Cost = 221529743.86\n",
      "Epoch 100: Cost = 13994931.48\n",
      "Epoch 200: Cost = 10965870.00\n",
      "Epoch 300: Cost = 10857693.29\n",
      "Epoch 400: Cost = 10828817.25\n",
      "Epoch 500: Cost = 10813519.47\n",
      "Epoch 600: Cost = 10804682.84\n",
      "Epoch 700: Cost = 10799406.89\n",
      "Epoch 800: Cost = 10796188.44\n",
      "Epoch 900: Cost = 10794193.54\n",
      "Train MSE: 10792951.57\n",
      "Test MSE: 14234181.39\n",
      "R² Score: 0.8197\n"
     ]
    }
   ],
   "source": [
    "X_train, X_test, y_train, y_test = train_test_split(X_scaled, y, test_size=0.2, random_state=42)\n",
    "\n",
    "w, b, cost_hist = gradient_descent(X_train, y_train, lr=0.01, epochs=1000)\n",
    "\n",
    "y_pred_train = X_train.dot(w) + b\n",
    "y_pred_test = X_test.dot(w) + b\n",
    "\n",
    "train_mse = mean_squared_error(y_train, y_pred_train)\n",
    "test_mse = mean_squared_error(y_test, y_pred_test)\n",
    "r2 = r2_score(y_test, y_pred_test)\n",
    "\n",
    "print(f\"Train MSE: {train_mse:.2f}\")\n",
    "print(f\"Test MSE: {test_mse:.2f}\")\n",
    "print(f\"R² Score: {r2:.4f}\")\n"
   ]
  },
  {
   "cell_type": "markdown",
   "id": "7c274882",
   "metadata": {},
   "source": [
    "**📈 5. Visualisations**"
   ]
  },
  {
   "cell_type": "code",
   "execution_count": 14,
   "id": "8cf44d33",
   "metadata": {},
   "outputs": [
    {
     "data": {
      "image/png": "[encoded data removed]",
      "text/plain": [
       "<Figure size 640x480 with 1 Axes>"
      ]
     },
     "metadata": {},
     "output_type": "display_data"
    }
   ],
   "source": [
    "plt.plot(cost_hist)\n",
    "plt.title(\"Cost vs Iterations\")\n",
    "plt.xlabel(\"Iterations\")\n",
    "plt.ylabel(\"Cost (MSE)\")\n",
    "plt.grid(True)\n",
    "plt.show()"
   ]
  },
  {
   "cell_type": "markdown",
   "id": "5a74ce41",
   "metadata": {},
   "source": [
    "**📈 Real vs predict prices**"
   ]
  },
  {
   "cell_type": "code",
   "execution_count": 15,
   "id": "8e03988f",
   "metadata": {},
   "outputs": [
    {
     "data": {
      "image/png": "[encoded data removed]",
      "text/plain": [
       "<Figure size 640x480 with 1 Axes>"
      ]
     },
     "metadata": {},
     "output_type": "display_data"
    }
   ],
   "source": [
    "plt.scatter(y_test, y_pred_test)\n",
    "plt.plot([y_test.min(), y_test.max()], [y_test.min(), y_test.max()], 'r--')\n",
    "plt.xlabel(\"Actual Price\")\n",
    "plt.ylabel(\"Predicted Price\")\n",
    "plt.title(\"Actual vs Predicted Car Prices\")\n",
    "plt.grid(True)\n",
    "plt.show()\n"
   ]
  },
  {
   "cell_type": "markdown",
   "id": "7b95fb3c",
   "metadata": {},
   "source": [
    "**✅ Bonus: compare with Sklearn**"
   ]
  },
  {
   "cell_type": "code",
   "execution_count": 16,
   "id": "127b4178",
   "metadata": {},
   "outputs": [
    {
     "name": "stdout",
     "output_type": "stream",
     "text": [
      "Sklearn MSE: 14203294.999366624\n",
      "Sklearn R²: 0.8200839678407293\n"
     ]
    }
   ],
   "source": [
    "from sklearn.linear_model import LinearRegression\n",
    "\n",
    "model = LinearRegression()\n",
    "model.fit(X_train, y_train)\n",
    "y_sklearn = model.predict(X_test)\n",
    "\n",
    "print(\"Sklearn MSE:\", mean_squared_error(y_test, y_sklearn))\n",
    "print(\"Sklearn R²:\", r2_score(y_test, y_sklearn))"
   ]
  }
 ],
 "metadata": {
  "kernelspec": {
   "display_name": "venv",
   "language": "python",
   "name": "python3"
  },
  "language_info": {
   "codemirror_mode": {
    "name": "ipython",
    "version": 3
   },
   "file_extension": ".py",
   "mimetype": "text/x-python",
   "name": "python",
   "nbconvert_exporter": "python",
   "pygments_lexer": "ipython3",
   "version": "3.13.3"
  }
 },
 "nbformat": 4,
 "nbformat_minor": 5
}
