{
 "cells": [
  {
   "cell_type": "code",
   "execution_count": 1,
   "id": "424095ce",
   "metadata": {},
   "outputs": [],
   "source": [
    "from sklearn.datasets import fetch_openml"
   ]
  },
  {
   "cell_type": "code",
   "execution_count": 2,
   "id": "25ca6503",
   "metadata": {},
   "outputs": [],
   "source": [
    "mnist = fetch_openml('mnist_784', as_frame=False)"
   ]
  },
  {
   "cell_type": "code",
   "execution_count": null,
   "id": "591624b7",
   "metadata": {},
   "outputs": [],
   "source": [
    "dir(mnist)"
   ]
  },
  {
   "cell_type": "code",
   "execution_count": 3,
   "id": "0d718c31",
   "metadata": {},
   "outputs": [],
   "source": [
    "X, y = mnist.data, mnist.target"
   ]
  },
  {
   "cell_type": "code",
   "execution_count": 6,
   "id": "5ac34778",
   "metadata": {},
   "outputs": [
    {
     "data": {
      "text/plain": [
       "(array([  0,   0,   0,   0,   0,   0,   0,   0,   0,   0,   0,   0,   0,\n",
       "          0,   0,   0,   0,   0,   0,   0,   0,   0,   0,   0,   0,   0,\n",
       "          0,   0,   0,   0,   0,   0,   0,   0,   0,   0,   0,   0,   0,\n",
       "          0,   0,   0,   0,   0,   0,   0,   0,   0,   0,   0,   0,   0,\n",
       "          0,   0,   0,   0,   0,   0,   0,   0,   0,   0,   0,   0,   0,\n",
       "          0,   0,   0,   0,   0,   0,   0,   0,   0,   0,   0,   0,   0,\n",
       "          0,   0,   0,   0,   0,   0,   0,   0,   0,   0,   0,   0,   0,\n",
       "          0,   0,   0,   0,   0,   0,   0,   0,   0,   0,   0,   0,   0,\n",
       "          0,   0,   0,   0,   0,   0,   0,   0,   0,   0,   0,   0,   0,\n",
       "          0,   0,   0,   0,   0,   0,   0,   0,   0,   0,   0,   0,   0,\n",
       "          0,   0,   0,   0,   0,   0,   0,   0,   0,   0,   0,   0,   0,\n",
       "          0,   0,   0,   0,   0,   0,   0,   0,   0,   0,   0,   0,  13,\n",
       "         25, 100, 122,   7,   0,   0,   0,   0,   0,   0,   0,   0,   0,\n",
       "          0,   0,   0,   0,   0,   0,   0,   0,   0,   0,   0,   0,  33,\n",
       "        151, 208, 252, 252, 252, 146,   0,   0,   0,   0,   0,   0,   0,\n",
       "          0,   0,   0,   0,   0,   0,   0,   0,   0,   0,   0,   0,  40,\n",
       "        152, 244, 252, 253, 224, 211, 252, 232,  40,   0,   0,   0,   0,\n",
       "          0,   0,   0,   0,   0,   0,   0,   0,   0,   0,   0,   0,  15,\n",
       "        152, 239, 252, 252, 252, 216,  31,  37, 252, 252,  60,   0,   0,\n",
       "          0,   0,   0,   0,   0,   0,   0,   0,   0,   0,   0,   0,   0,\n",
       "          0,  96, 252, 252, 252, 252, 217,  29,   0,  37, 252, 252,  60,\n",
       "          0,   0,   0,   0,   0,   0,   0,   0,   0,   0,   0,   0,   0,\n",
       "          0,   0,   0, 181, 252, 252, 220, 167,  30,   0,   0,  77, 252,\n",
       "        252,  60,   0,   0,   0,   0,   0,   0,   0,   0,   0,   0,   0,\n",
       "          0,   0,   0,   0,   0,  26, 128,  58,  22,   0,   0,   0,   0,\n",
       "        100, 252, 252,  60,   0,   0,   0,   0,   0,   0,   0,   0,   0,\n",
       "          0,   0,   0,   0,   0,   0,   0,   0,   0,   0,   0,   0,   0,\n",
       "          0,   0, 157, 252, 252,  60,   0,   0,   0,   0,   0,   0,   0,\n",
       "          0,   0,   0,   0,   0,   0,   0,   0,   0,   0,   0,   0,   0,\n",
       "        110, 121, 122, 121, 202, 252, 194,   3,   0,   0,   0,   0,   0,\n",
       "          0,   0,   0,   0,   0,   0,   0,   0,   0,   0,   0,   0,  10,\n",
       "         53, 179, 253, 253, 255, 253, 253, 228,  35,   0,   0,   0,   0,\n",
       "          0,   0,   0,   0,   0,   0,   0,   0,   0,   0,   0,   0,   5,\n",
       "         54, 227, 252, 243, 228, 170, 242, 252, 252, 231, 117,   6,   0,\n",
       "          0,   0,   0,   0,   0,   0,   0,   0,   0,   0,   0,   0,   0,\n",
       "          6,  78, 252, 252, 125,  59,   0,  18, 208, 252, 252, 252, 252,\n",
       "         87,   7,   0,   0,   0,   0,   0,   0,   0,   0,   0,   0,   0,\n",
       "          0,   5, 135, 252, 252, 180,  16,   0,  21, 203, 253, 247, 129,\n",
       "        173, 252, 252, 184,  66,  49,  49,   0,   0,   0,   0,   0,   0,\n",
       "          0,   0,   3, 136, 252, 241, 106,  17,   0,  53, 200, 252, 216,\n",
       "         65,   0,  14,  72, 163, 241, 252, 252, 223,   0,   0,   0,   0,\n",
       "          0,   0,   0,   0, 105, 252, 242,  88,  18,  73, 170, 244, 252,\n",
       "        126,  29,   0,   0,   0,   0,   0,  89, 180, 180,  37,   0,   0,\n",
       "          0,   0,   0,   0,   0,   0, 231, 252, 245, 205, 216, 252, 252,\n",
       "        252, 124,   3,   0,   0,   0,   0,   0,   0,   0,   0,   0,   0,\n",
       "          0,   0,   0,   0,   0,   0,   0,   0, 207, 252, 252, 252, 252,\n",
       "        178, 116,  36,   4,   0,   0,   0,   0,   0,   0,   0,   0,   0,\n",
       "          0,   0,   0,   0,   0,   0,   0,   0,   0,   0,  13,  93, 143,\n",
       "        121,  23,   6,   0,   0,   0,   0,   0,   0,   0,   0,   0,   0,\n",
       "          0,   0,   0,   0,   0,   0,   0,   0,   0,   0,   0,   0,   0,\n",
       "          0,   0,   0,   0,   0,   0,   0,   0,   0,   0,   0,   0,   0,\n",
       "          0,   0,   0,   0,   0,   0,   0,   0,   0,   0,   0,   0,   0,\n",
       "          0,   0,   0,   0,   0,   0,   0,   0,   0,   0,   0,   0,   0,\n",
       "          0,   0,   0,   0,   0,   0,   0,   0,   0,   0,   0,   0,   0,\n",
       "          0,   0,   0,   0,   0,   0,   0,   0,   0,   0,   0,   0,   0,\n",
       "          0,   0,   0,   0,   0,   0,   0,   0,   0,   0,   0,   0,   0,\n",
       "          0,   0,   0,   0,   0,   0,   0,   0,   0,   0,   0,   0,   0,\n",
       "          0,   0,   0,   0,   0,   0,   0,   0,   0,   0,   0,   0,   0,\n",
       "          0,   0,   0,   0,   0,   0,   0,   0,   0,   0,   0,   0,   0,\n",
       "          0,   0,   0,   0,   0,   0,   0,   0,   0,   0,   0,   0,   0,\n",
       "          0,   0,   0,   0]),\n",
       " '2')"
      ]
     },
     "execution_count": 6,
     "metadata": {},
     "output_type": "execute_result"
    }
   ],
   "source": [
    "X[5], y[5]"
   ]
  },
  {
   "cell_type": "code",
   "execution_count": null,
   "id": "a620dcc7",
   "metadata": {},
   "outputs": [],
   "source": [
    "import matplotlib.pyplot as plt\n",
    "\n",
    "index = 110\n",
    "\n",
    "image = X[index].reshape(28,28)\n",
    "plt.imshow(image, cmap='binary')\n",
    "plt.title(y[index])\n",
    "plt.axis('off')"
   ]
  },
  {
   "cell_type": "code",
   "execution_count": null,
   "id": "64a37ca0",
   "metadata": {},
   "outputs": [],
   "source": [
    "from sklearn.datasets import fetch_openml\n",
    "from sklearn.linear_model import LogisticRegression\n",
    "from sklearn.model_selection import train_test_split\n",
    "from sklearn.metrics import accuracy_score, classification_report\n",
    "import matplotlib.pyplot as plt"
   ]
  },
  {
   "cell_type": "code",
   "execution_count": null,
   "id": "cb4a3494",
   "metadata": {},
   "outputs": [],
   "source": [
    "mnist = fetch_openml('mnist_784', version=1, as_frame=False)\n",
    "X, y = mnist.data, mnist.target.astype(\"int\")"
   ]
  },
  {
   "cell_type": "code",
   "execution_count": null,
   "id": "395293a1",
   "metadata": {},
   "outputs": [],
   "source": [
    "X_train, X_test, y_train, y_test = train_test_split(X, y, test_size=0.2, random_state=42)"
   ]
  },
  {
   "cell_type": "code",
   "execution_count": null,
   "id": "bfaf31f5",
   "metadata": {},
   "outputs": [],
   "source": [
    "clf = LogisticRegression(max_iter=1000)\n",
    "clf.fit(X_train, y_train)"
   ]
  },
  {
   "cell_type": "code",
   "execution_count": null,
   "id": "6a621816",
   "metadata": {},
   "outputs": [],
   "source": [
    "y_pred = clf.predict(X_test)\n",
    "print(\"✅ Accuracy:\", accuracy_score(y_test, y_pred))\n",
    "print(classification_report(y_test, y_pred))"
   ]
  },
  {
   "cell_type": "code",
   "execution_count": null,
   "id": "4d881e9e",
   "metadata": {},
   "outputs": [],
   "source": [
    "def show_prediction(index):\n",
    "    image = X_test[index].reshape(28, 28)\n",
    "    plt.imshow(image, cmap=\"gray\")\n",
    "    plt.title(f\"True: {y_test[index]} | Predicted: {y_pred[index]}\")\n",
    "    plt.axis(\"off\")\n",
    "    plt.show()\n",
    "\n",
    "show_prediction(20)"
   ]
  },
  {
   "cell_type": "code",
   "execution_count": null,
   "id": "6dc62043",
   "metadata": {},
   "outputs": [],
   "source": [
    "from pathlib import Path\n",
    "from PIL import Image, ImageOps\n",
    "import numpy as np\n",
    "\n",
    "def to_mnist_array(img_path, invert=True):\n",
    "    img_path = Path(img_path)\n",
    "    if not img_path.exists():\n",
    "        raise FileNotFoundError(img_path)\n",
    "    \n",
    "    img = Image.open(img_path).convert(\"L\")\n",
    "    if invert and np.mean(img) > 127:\n",
    "        img = ImageOps.invert(img)\n",
    "    img = img.resize((28, 28), Image.Resampling.LANCZOS)\n",
    "    arr = np.asarray(img)\n",
    "\n",
    "    return arr"
   ]
  },
  {
   "cell_type": "code",
   "execution_count": null,
   "id": "15e5083f",
   "metadata": {},
   "outputs": [],
   "source": [
    "from pathlib import Path\n",
    "\n",
    "image_path = Path(\"images/3_1.png\")\n",
    "a = to_mnist_array(image_path)"
   ]
  },
  {
   "cell_type": "code",
   "execution_count": null,
   "id": "29f45d77",
   "metadata": {},
   "outputs": [],
   "source": [
    "a"
   ]
  },
  {
   "cell_type": "code",
   "execution_count": null,
   "id": "39a3c273",
   "metadata": {},
   "outputs": [],
   "source": [
    "import os, pathlib\n",
    "print(\"cwd:\", os.getcwd())\n",
    "print(\"Exists?\", pathlib.Path(\"../images/3_1.png\").resolve())"
   ]
  }
 ],
 "metadata": {
  "kernelspec": {
   "display_name": "venv",
   "language": "python",
   "name": "python3"
  },
  "language_info": {
   "codemirror_mode": {
    "name": "ipython",
    "version": 3
   },
   "file_extension": ".py",
   "mimetype": "text/x-python",
   "name": "python",
   "nbconvert_exporter": "python",
   "pygments_lexer": "ipython3",
   "version": "3.13.3"
  }
 },
 "nbformat": 4,
 "nbformat_minor": 5
}
