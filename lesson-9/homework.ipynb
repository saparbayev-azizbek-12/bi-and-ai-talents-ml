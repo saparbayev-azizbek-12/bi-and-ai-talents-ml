{
 "cells": [
  {
   "cell_type": "markdown",
   "id": "f629bb6c",
   "metadata": {},
   "source": [
    "### **Support Vector Machines: Classifying Handwritten Digits**"
   ]
  },
  {
   "cell_type": "markdown",
   "id": "99024c23",
   "metadata": {},
   "source": [
    "**Import the packages**"
   ]
  },
  {
   "cell_type": "code",
   "execution_count": 2,
   "id": "cc340133",
   "metadata": {},
   "outputs": [],
   "source": [
    "import numpy as np\n",
    "import matplotlib.pyplot as plt\n",
    "\n",
    "from sklearn.svm import SVC\n",
    "from sklearn.datasets import load_digits\n",
    "from sklearn.preprocessing import StandardScaler\n",
    "from sklearn.model_selection import train_test_split, GridSearchCV\n",
    "from sklearn.metrics import accuracy_score, confusion_matrix, classification_report, ConfusionMatrixDisplay"
   ]
  },
  {
   "cell_type": "markdown",
   "id": "1b440aa2",
   "metadata": {},
   "source": [
    "1. **Load the Dataset**"
   ]
  },
  {
   "cell_type": "code",
   "execution_count": 3,
   "id": "ab2fa743",
   "metadata": {},
   "outputs": [],
   "source": [
    "digits = load_digits()\n",
    "X = digits.data\n",
    "y = digits.target"
   ]
  },
  {
   "cell_type": "markdown",
   "id": "0e80c34f",
   "metadata": {},
   "source": [
    "2. **Data Exploration**"
   ]
  },
  {
   "cell_type": "code",
   "execution_count": 4,
   "id": "46ac1c48",
   "metadata": {},
   "outputs": [
    {
     "data": {
      "text/plain": [
       "((1797, 64), (1797,), array([0, 1, 2, 3, 4, 5, 6, 7, 8, 9]))"
      ]
     },
     "execution_count": 4,
     "metadata": {},
     "output_type": "execute_result"
    }
   ],
   "source": [
    "X.shape, y.shape, np.unique(y)"
   ]
  },
  {
   "cell_type": "markdown",
   "id": "2dcdc278",
   "metadata": {},
   "source": [
    "3. **Data Splitting**"
   ]
  },
  {
   "cell_type": "code",
   "execution_count": 21,
   "id": "d698f339",
   "metadata": {},
   "outputs": [],
   "source": [
    "X_train, X_test, y_train, y_test = train_test_split(X, y, train_size=0.8, random_state=42)\n",
    "\n",
    "std = StandardScaler()\n",
    "X_train = std.fit_transform(X_train)\n",
    "X_test = std.transform(X_test)"
   ]
  },
  {
   "cell_type": "markdown",
   "id": "e3ac613d",
   "metadata": {},
   "source": [
    "4. **Build an SVM Classifier**"
   ]
  },
  {
   "cell_type": "code",
   "execution_count": 25,
   "id": "1700bbde",
   "metadata": {},
   "outputs": [
    {
     "name": "stdout",
     "output_type": "stream",
     "text": [
      "Accuracy: 0.975\n",
      "Confusion Matrix:\n",
      " [[33  0  0  0  0  0  0  0  0  0]\n",
      " [ 0 28  0  0  0  0  0  0  0  0]\n",
      " [ 0  0 33  0  0  0  0  0  0  0]\n",
      " [ 0  0  0 33  0  1  0  0  0  0]\n",
      " [ 0  0  0  0 46  0  0  0  0  0]\n",
      " [ 0  0  0  1  0 45  1  0  0  0]\n",
      " [ 1  0  0  0  0  0 34  0  0  0]\n",
      " [ 0  0  0  0  0  0  0 33  0  1]\n",
      " [ 0  1  0  0  0  1  0  0 28  0]\n",
      " [ 0  0  0  1  0  0  0  1  0 38]]\n",
      "Classification Report:\n",
      "               precision    recall  f1-score   support\n",
      "\n",
      "           0       0.97      1.00      0.99        33\n",
      "           1       0.97      1.00      0.98        28\n",
      "           2       1.00      1.00      1.00        33\n",
      "           3       0.94      0.97      0.96        34\n",
      "           4       1.00      1.00      1.00        46\n",
      "           5       0.96      0.96      0.96        47\n",
      "           6       0.97      0.97      0.97        35\n",
      "           7       0.97      0.97      0.97        34\n",
      "           8       1.00      0.93      0.97        30\n",
      "           9       0.97      0.95      0.96        40\n",
      "\n",
      "    accuracy                           0.97       360\n",
      "   macro avg       0.98      0.98      0.98       360\n",
      "weighted avg       0.98      0.97      0.97       360\n",
      "\n"
     ]
    }
   ],
   "source": [
    "model = SVC(kernel=\"linear\")\n",
    "model.fit(X_train, y_train)\n",
    "\n",
    "y_pred = model.predict(X_test)\n",
    "\n",
    "acc = accuracy_score(y_test, y_pred)\n",
    "cnf = confusion_matrix(y_test, y_pred)\n",
    "clf = classification_report(y_test, y_pred)\n",
    "\n",
    "print(\"Accuracy:\", acc)\n",
    "print(\"Confusion Matrix:\\n\", cnf)\n",
    "print(\"Classification Report:\\n\", clf)"
   ]
  },
  {
   "cell_type": "markdown",
   "id": "05abc9a8",
   "metadata": {},
   "source": [
    "5. **Experiment with Kernels**"
   ]
  },
  {
   "cell_type": "code",
   "execution_count": 26,
   "id": "5dbfc4b7",
   "metadata": {},
   "outputs": [
    {
     "name": "stdout",
     "output_type": "stream",
     "text": [
      "Accuracy (linear): 0.975\n",
      "Accuracy (poly): 0.9638888888888889\n",
      "Accuracy (rbf): 0.9805555555555555\n"
     ]
    }
   ],
   "source": [
    "for kernel in [\"linear\", \"poly\", \"rbf\"]:\n",
    "    model = SVC(kernel=kernel)\n",
    "    model.fit(X_train, y_train)\n",
    "    y_pred = model.predict(X_test)\n",
    "    acc = accuracy_score(y_test, y_pred)\n",
    "\n",
    "    print(f\"Accuracy ({kernel}):\", acc)"
   ]
  },
  {
   "cell_type": "markdown",
   "id": "55c9b473",
   "metadata": {},
   "source": [
    "6. **Hyperparameter Tuning**"
   ]
  },
  {
   "cell_type": "code",
   "execution_count": null,
   "id": "35be3eb5",
   "metadata": {},
   "outputs": [
    {
     "name": "stdout",
     "output_type": "stream",
     "text": [
      "Fitting 5 folds for each of 21 candidates, totalling 105 fits\n",
      "Best params: {'C': 0.1, 'gamma': 0.1, 'kernel': 'poly'}\n"
     ]
    }
   ],
   "source": [
    "param_grid = [\n",
    "    {'kernel': ['linear'], 'C': [0.1, 1, 10]},\n",
    "    {'kernel': ['poly'], 'C': [0.1, 1, 10], 'gamma': [0.001, 0.01, 0.1]},\n",
    "    {'kernel': ['rbf'], 'C': [0.1, 1, 10], 'degree': [2, 3, 4]},\n",
    "]\n",
    "\n",
    "grid = GridSearchCV(model, param_grid, cv=5, verbose=2, n_jobs=-1)\n",
    "grid = grid.fit(X_train, y_train)\n",
    "\n",
    "print(\"Best params:\", grid.best_params_)"
   ]
  },
  {
   "cell_type": "markdown",
   "id": "3c725b6a",
   "metadata": {},
   "source": [
    "7. **Visualization**"
   ]
  },
  {
   "cell_type": "code",
   "execution_count": 40,
   "id": "b35103ea",
   "metadata": {},
   "outputs": [
    {
     "data": {
      "image/png": "[encoded data removed]",
      "text/plain": [
       "<Figure size 640x480 with 2 Axes>"
      ]
     },
     "metadata": {},
     "output_type": "display_data"
    }
   ],
   "source": [
    "best_model = SVC(C=0.1, gamma=0.1, kernel=\"poly\")\n",
    "best_model.fit(X_train, y_train)\n",
    "y_pred = best_model.predict(X_test)\n",
    "\n",
    "cnf = confusion_matrix(y_test, y_pred)\n",
    "\n",
    "disp = ConfusionMatrixDisplay(confusion_matrix=cnf, display_labels=best_model.classes_)\n",
    "disp.plot(cmap=\"Blues\")\n",
    "plt.show()"
   ]
  }
 ],
 "metadata": {
  "kernelspec": {
   "display_name": "venv",
   "language": "python",
   "name": "python3"
  },
  "language_info": {
   "codemirror_mode": {
    "name": "ipython",
    "version": 3
   },
   "file_extension": ".py",
   "mimetype": "text/x-python",
   "name": "python",
   "nbconvert_exporter": "python",
   "pygments_lexer": "ipython3",
   "version": "3.13.3"
  }
 },
 "nbformat": 4,
 "nbformat_minor": 5
}
