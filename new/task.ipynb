{
 "cells": [
  {
   "cell_type": "code",
   "execution_count": 2,
   "id": "99cdf375",
   "metadata": {},
   "outputs": [],
   "source": [
    "# Nonparametric model\n",
    "import numpy as np\n",
    "from collections import Counter\n",
    "\n",
    "class KNN:\n",
    "    def __init__(self, n_neighbors):\n",
    "        self.n_neighbors = n_neighbors\n",
    "\n",
    "    def fit(self, X, y):\n",
    "        self.X = X\n",
    "        self.y = y\n",
    "        return self\n",
    "\n",
    "    def predict(self, X):\n",
    "        # shape of (n, m)\n",
    "        # n - observations\n",
    "        # m - number of features\n",
    "        pred = []\n",
    "        for x_ in X:\n",
    "            distances = np.sqrt(np.sum((x_ - self.X) ** 2, axis=1))\n",
    "            idx = np.argsort(distances)[:self.n_neighbors]\n",
    "            classes = self.y[idx]\n",
    "            cntr = Counter(classes)\n",
    "            pred.append(cntr.most_common(1)[0][0].item())\n",
    "        return np.array(pred)\n"
   ]
  },
  {
   "cell_type": "code",
   "execution_count": null,
   "id": "6ff65b4d",
   "metadata": {},
   "outputs": [],
   "source": []
  }
 ],
 "metadata": {
  "kernelspec": {
   "display_name": "venv",
   "language": "python",
   "name": "python3"
  },
  "language_info": {
   "codemirror_mode": {
    "name": "ipython",
    "version": 3
   },
   "file_extension": ".py",
   "mimetype": "text/x-python",
   "name": "python",
   "nbconvert_exporter": "python",
   "pygments_lexer": "ipython3",
   "version": "3.13.3"
  }
 },
 "nbformat": 4,
 "nbformat_minor": 5
}
