{
 "cells": [
  {
   "cell_type": "code",
   "execution_count": 1,
   "id": "f047f446",
   "metadata": {},
   "outputs": [],
   "source": [
    "people = [\n",
    "    {\"name\": \"Alice\", \"degree\": 2, \"wealth_group\": 3},\n",
    "    {\"name\": \"Bob\", \"degree\": 3, \"wealth_group\": 2},\n",
    "    {\"name\": \"Charlie\", \"degree\": 3, \"wealth_group\": 1},\n",
    "    {\"name\": \"David\", \"degree\": 2, \"wealth_group\": 1},\n",
    "    {\"name\": \"Emma\", \"degree\": 2, \"wealth_group\": 2},\n",
    "    {\"name\": \"Frank\", \"degree\": 1, \"wealth_group\": 1},\n",
    "    {\"name\": \"Grace\", \"degree\": 1, \"wealth_group\": 1},\n",
    "    {\"name\": \"Henry\", \"degree\": 1, \"wealth_group\": 1},\n",
    "    {\"name\": \"Ivy\", \"degree\": 2, \"wealth_group\": 2},\n",
    "    {\"name\": \"Jack\", \"degree\": 2, \"wealth_group\": 2},\n",
    "]"
   ]
  },
  {
   "cell_type": "markdown",
   "id": "66ab13bf",
   "metadata": {},
   "source": [
    "$A$ = Super Wealthy (Wealth Group = 3)\n",
    "\n",
    "$B$ = Bachelor Degree"
   ]
  },
  {
   "cell_type": "markdown",
   "id": "0977930c",
   "metadata": {},
   "source": [
    "$$\n",
    "P(A|B) = \\frac{P(B|A)P(A)}{P(B)}\n",
    "$$"
   ]
  },
  {
   "cell_type": "code",
   "execution_count": 2,
   "id": "3af7da77",
   "metadata": {},
   "outputs": [],
   "source": [
    "\n",
    "total_people = len(people)"
   ]
  },
  {
   "cell_type": "code",
   "execution_count": 8,
   "id": "b61e6acd",
   "metadata": {},
   "outputs": [
    {
     "data": {
      "text/plain": [
       "[{'name': 'Alice', 'degree': 2, 'wealth_group': 3}]"
      ]
     },
     "execution_count": 8,
     "metadata": {},
     "output_type": "execute_result"
    }
   ],
   "source": [
    "P_A = [p for p in people if p['wealth_group'] == 3]\n",
    "P_A"
   ]
  },
  {
   "cell_type": "code",
   "execution_count": 7,
   "id": "339ef35e",
   "metadata": {},
   "outputs": [
    {
     "data": {
      "text/plain": [
       "[{'name': 'Alice', 'degree': 2, 'wealth_group': 3},\n",
       " {'name': 'David', 'degree': 2, 'wealth_group': 1},\n",
       " {'name': 'Emma', 'degree': 2, 'wealth_group': 2},\n",
       " {'name': 'Ivy', 'degree': 2, 'wealth_group': 2},\n",
       " {'name': 'Jack', 'degree': 2, 'wealth_group': 2}]"
      ]
     },
     "execution_count": 7,
     "metadata": {},
     "output_type": "execute_result"
    }
   ],
   "source": [
    "P_B = [p for p in people if p['degree'] == 2]\n",
    "P_B"
   ]
  },
  {
   "cell_type": "code",
   "execution_count": 9,
   "id": "96b83848",
   "metadata": {},
   "outputs": [
    {
     "data": {
      "text/plain": [
       "[{'name': 'Alice', 'degree': 2, 'wealth_group': 3}]"
      ]
     },
     "execution_count": 9,
     "metadata": {},
     "output_type": "execute_result"
    }
   ],
   "source": [
    "P_B_given_A = [b for b in P_B if b['wealth_group'] == 3]\n",
    "P_B_given_A"
   ]
  },
  {
   "cell_type": "code",
   "execution_count": 11,
   "id": "e26f3d50",
   "metadata": {},
   "outputs": [
    {
     "data": {
      "text/plain": [
       "0.2"
      ]
     },
     "execution_count": 11,
     "metadata": {},
     "output_type": "execute_result"
    }
   ],
   "source": [
    "P_A_given_B = (len(P_B_given_A) * len(P_A)) / len(P_B)\n",
    "P_A_given_B"
   ]
  },
  {
   "cell_type": "code",
   "execution_count": 16,
   "id": "29b343e5",
   "metadata": {},
   "outputs": [
    {
     "name": "stdout",
     "output_type": "stream",
     "text": [
      "P(A): 1\n",
      "P(B): 5\n",
      "P(B|A): 1\n",
      "P(A|B): 0.2\n"
     ]
    }
   ],
   "source": [
    "print(\"P(A):\", len(P_A)),\n",
    "print(\"P(B):\", len(P_B)),\n",
    "print(\"P(B|A):\", len(P_B_given_A)),\n",
    "print(\"P(A|B):\", P_A_given_B)"
   ]
  }
 ],
 "metadata": {
  "kernelspec": {
   "display_name": "venv",
   "language": "python",
   "name": "python3"
  },
  "language_info": {
   "codemirror_mode": {
    "name": "ipython",
    "version": 3
   },
   "file_extension": ".py",
   "mimetype": "text/x-python",
   "name": "python",
   "nbconvert_exporter": "python",
   "pygments_lexer": "ipython3",
   "version": "3.13.3"
  }
 },
 "nbformat": 4,
 "nbformat_minor": 5
}
